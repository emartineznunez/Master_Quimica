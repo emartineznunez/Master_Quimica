{
 "cells": [
  {
   "cell_type": "markdown",
   "metadata": {},
   "source": [
    "**Tambien podemos visualizar superficies con moleculas adsorbidas**"
   ]
  },
  {
   "cell_type": "code",
   "execution_count": 2,
   "metadata": {},
   "outputs": [],
   "source": [
    "# ontop,fcc,bridge,hcp\n",
    "\n",
    "# https://wiki.fysik.dtu.dk/ase/ase/build/surface.html?highlight=fcc111#ase.build.fcc111\n",
    "\n",
    "from ase.build import fcc111,add_adsorbate\n",
    "from ase.visualize import view\n",
    "from ase.io import write\n",
    "\n",
    "slab = fcc111('Al', size=(3,3,2))\n",
    "add_adsorbate(slab,'H',1.5,'hcp')\n",
    "\n",
    "write('surface_molecule.x3d',slab)"
   ]
  },
  {
   "cell_type": "code",
   "execution_count": null,
   "metadata": {},
   "outputs": [],
   "source": []
  }
 ],
 "metadata": {
  "kernelspec": {
   "display_name": "Python 3",
   "language": "python",
   "name": "python3"
  },
  "language_info": {
   "codemirror_mode": {
    "name": "ipython",
    "version": 3
   },
   "file_extension": ".py",
   "mimetype": "text/x-python",
   "name": "python",
   "nbconvert_exporter": "python",
   "pygments_lexer": "ipython3",
   "version": "3.7.8"
  }
 },
 "nbformat": 4,
 "nbformat_minor": 2
}
