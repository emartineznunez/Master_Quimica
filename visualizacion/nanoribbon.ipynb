{
 "cells": [
  {
   "cell_type": "markdown",
   "metadata": {},
   "source": [
    "**Construccion de dos nanoribbons**"
   ]
  },
  {
   "cell_type": "code",
   "execution_count": null,
   "metadata": {},
   "outputs": [],
   "source": [
    "from ase.build import graphene_nanoribbon\n",
    "from ase.visualize import view\n",
    "\n",
    "gnr1 = graphene_nanoribbon(3, 4, type='armchair', saturated=True,\n",
    "                               vacuum=3.5)\n",
    "gnr2 = graphene_nanoribbon(2, 6, type='zigzag', saturated=True,\n",
    "                           C_H=1.1, C_C=1.4, vacuum=3.0,\n",
    "                           magnetic=True, initial_mag=1.12)\n",
    "view(gnr1)\n",
    "view(gnr2)"
   ]
  },
  {
   "cell_type": "code",
   "execution_count": null,
   "metadata": {},
   "outputs": [],
   "source": []
  }
 ],
 "metadata": {
  "kernelspec": {
   "display_name": "Python 3",
   "language": "python",
   "name": "python3"
  },
  "language_info": {
   "codemirror_mode": {
    "name": "ipython",
    "version": 3
   },
   "file_extension": ".py",
   "mimetype": "text/x-python",
   "name": "python",
   "nbconvert_exporter": "python",
   "pygments_lexer": "ipython3",
   "version": "3.7.3"
  }
 },
 "nbformat": 4,
 "nbformat_minor": 2
}
