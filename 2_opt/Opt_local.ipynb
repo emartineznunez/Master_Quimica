{
 "cells": [
  {
   "cell_type": "markdown",
   "metadata": {},
   "source": [
    "**Optimización usando un algoritmo local**"
   ]
  },
  {
   "cell_type": "code",
   "execution_count": null,
   "metadata": {},
   "outputs": [],
   "source": [
    "#with the Powershell prompt\n",
    "#cd Desktop\n",
    "# ase gui H2O.traj\n",
    "# show forces, bonds \n",
    "from ase import Atoms\n",
    "from ase.optimize import BFGS, FIRE\n",
    "from ase.calculators.emt import EMT\n",
    "from ase.io import read\n",
    "from ase.visualize import view\n",
    "import numpy as np\n",
    "import warnings\n",
    "warnings.filterwarnings(\"ignore\")\n",
    "d = 0.9575\n",
    "t = np.pi / 180 * 104.51\n",
    "water = Atoms('H2O',\n",
    "              positions=[(d, 0, 0),\n",
    "                         (d * np.cos(t), d * np.sin(t), 0),\n",
    "                         (0, 0, 0)],\n",
    "              calculator=EMT())\n",
    "dyn = BFGS(water, trajectory='H2O.traj')\n",
    "#dyn = FIRE(water, trajectory='H2O.traj')\n",
    "\n",
    "dyn.run(fmax=0.05)\n",
    "configs = read('H2O.traj@0:')\n",
    "view(configs, viewer='ngl')"
   ]
  },
  {
   "cell_type": "code",
   "execution_count": null,
   "metadata": {},
   "outputs": [],
   "source": []
  }
 ],
 "metadata": {
  "kernelspec": {
   "display_name": "Python 3",
   "language": "python",
   "name": "python3"
  },
  "language_info": {
   "codemirror_mode": {
    "name": "ipython",
    "version": 3
   },
   "file_extension": ".py",
   "mimetype": "text/x-python",
   "name": "python",
   "nbconvert_exporter": "python",
   "pygments_lexer": "ipython3",
   "version": "3.7.8"
  }
 },
 "nbformat": 4,
 "nbformat_minor": 4
}
