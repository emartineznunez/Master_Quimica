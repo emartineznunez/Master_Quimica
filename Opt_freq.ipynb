{
 "cells": [
  {
   "cell_type": "markdown",
   "metadata": {},
   "source": [
    "**Optimización usando un algoritmo local y cálculo de la frecuencia de vibración**"
   ]
  },
  {
   "cell_type": "code",
   "execution_count": null,
   "metadata": {},
   "outputs": [],
   "source": [
    "#with the Powershell prompt\n",
    "#cd Desktop\n",
    "# ase gui H2O.traj\n",
    "# show forces, bonds \n",
    "from ase import Atoms\n",
    "from ase.units import kJ,mol\n",
    "from ase.build import molecule\n",
    "from ase.optimize import BFGS, FIRE\n",
    "from ase.calculators.emt import EMT\n",
    "from ase.io import read\n",
    "from ase.visualize import view\n",
    "import numpy as np\n",
    "import warnings\n",
    "warnings.filterwarnings(\"ignore\")\n",
    "\n",
    "n2 = molecule('N2')\n",
    "\n",
    "mu = n2.get_masses()[0] / 2 / mol * 0.001\n",
    "\n",
    "natoms = len(n2)\n",
    "\n",
    "n2.set_calculator(EMT())\n",
    "dyn = BFGS(n2, trajectory='N2.traj')\n",
    "dyn.run(fmax=0.001)\n",
    "\n",
    "delta=0.001\n",
    "\n",
    "n2.positions[0][2] = n2.get_positions()[0][2] + delta\n",
    "g1 = abs(n2.get_forces()[0][2])\n",
    "\n",
    "frec = 1 / (2 * np.pi) * np.sqrt(g1/delta / kJ * 1000 / mu) / 2.9979\n",
    "\n",
    "print('Vibrational frequency (cm-1):',frec)    \n",
    "\n",
    "configs = read('N2.traj@0:')\n",
    "view(configs, viewer='ngl')"
   ]
  },
  {
   "cell_type": "code",
   "execution_count": null,
   "metadata": {},
   "outputs": [],
   "source": []
  }
 ],
 "metadata": {
  "kernelspec": {
   "display_name": "Python 3",
   "language": "python",
   "name": "python3"
  },
  "language_info": {
   "codemirror_mode": {
    "name": "ipython",
    "version": 3
   },
   "file_extension": ".py",
   "mimetype": "text/x-python",
   "name": "python",
   "nbconvert_exporter": "python",
   "pygments_lexer": "ipython3",
   "version": "3.7.8"
  }
 },
 "nbformat": 4,
 "nbformat_minor": 4
}
