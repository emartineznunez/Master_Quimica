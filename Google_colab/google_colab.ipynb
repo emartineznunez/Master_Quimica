{
  "metadata": {
    "language_info": {
      "name": "python",
      "version": "3.10.12",
      "mimetype": "text/x-python",
      "codemirror_mode": {
        "name": "ipython",
        "version": 3
      },
      "pygments_lexer": "ipython3",
      "nbconvert_exporter": "python",
      "file_extension": ".py"
    },
    "kernelspec": {
      "name": "python3",
      "display_name": "Python 3 (ipykernel)",
      "language": "python"
    },
    "colab": {
      "provenance": []
    }
  },
  "nbformat_minor": 5,
  "nbformat": 4,
  "cells": [
    {
      "cell_type": "code",
      "source": [
        "! pip install ase nglview\n"
      ],
      "metadata": {
        "id": "eb273591-d041-4358-8b1c-c63b5fa2a7cd"
      },
      "execution_count": null,
      "outputs": [],
      "id": "eb273591-d041-4358-8b1c-c63b5fa2a7cd"
    },
    {
      "cell_type": "code",
      "source": [
        "from google.colab import output\n",
        "output.enable_custom_widget_manager()"
      ],
      "metadata": {
        "id": "UrmneR7C5fY4"
      },
      "id": "UrmneR7C5fY4",
      "execution_count": null,
      "outputs": []
    },
    {
      "cell_type": "code",
      "source": [
        "# @title Visualización de moléculas { display-mode: \"form\" }\n"
      ],
      "metadata": {
        "id": "tMT8arJ41Xnn"
      },
      "id": "tMT8arJ41Xnn",
      "execution_count": null,
      "outputs": []
    },
    {
      "cell_type": "code",
      "source": [
        "#The database is here: https://wiki.fysik.dtu.dk/ase/ase/build/build.html\n",
        "from ase.build import molecule\n",
        "from ase.visualize import view\n",
        "\n",
        "water = molecule('H2O')\n",
        "FA = molecule('HCOOH')\n",
        "C60 = molecule('C60')\n",
        "cyclobutene = molecule('cyclobutene')\n",
        "view(water, viewer='x3d')"
      ],
      "metadata": {
        "collapsed": true,
        "id": "6g00VMvL1Hrj"
      },
      "id": "6g00VMvL1Hrj",
      "execution_count": null,
      "outputs": []
    },
    {
      "cell_type": "code",
      "source": [
        "view(FA, viewer='x3d')"
      ],
      "metadata": {
        "id": "jFdkkt911Oac"
      },
      "id": "jFdkkt911Oac",
      "execution_count": null,
      "outputs": []
    },
    {
      "cell_type": "code",
      "source": [
        "view(C60, viewer='x3d')"
      ],
      "metadata": {
        "id": "HoDPAcAU1Ryi"
      },
      "id": "HoDPAcAU1Ryi",
      "execution_count": null,
      "outputs": []
    },
    {
      "cell_type": "code",
      "source": [
        "view(cyclobutene, viewer='x3d')"
      ],
      "metadata": {
        "id": "K2UH5GBL1T1q"
      },
      "id": "K2UH5GBL1T1q",
      "execution_count": null,
      "outputs": []
    },
    {
      "cell_type": "code",
      "source": [
        "# @title Contrucción de nanoribbons, nanotubos y superficies { display-mode: \"form\" }"
      ],
      "metadata": {
        "id": "AIflKL8U2nqB"
      },
      "id": "AIflKL8U2nqB",
      "execution_count": null,
      "outputs": []
    },
    {
      "cell_type": "code",
      "source": [
        "from ase.build import graphene_nanoribbon\n",
        "from ase.visualize import view\n",
        "\n",
        "gnr1 = graphene_nanoribbon(3, 4, type='armchair', saturated=True,\n",
        "                               vacuum=3.5)\n",
        "gnr2 = graphene_nanoribbon(2, 6, type='zigzag', saturated=True,\n",
        "                           C_H=1.1, C_C=1.4, vacuum=3.0,\n",
        "                           magnetic=True, initial_mag=1.12)\n",
        "view(gnr1, viewer='ngl')"
      ],
      "metadata": {
        "id": "DPKtCvKL2oI8"
      },
      "id": "DPKtCvKL2oI8",
      "execution_count": null,
      "outputs": []
    },
    {
      "cell_type": "code",
      "source": [
        "view(gnr2, viewer='ngl')"
      ],
      "metadata": {
        "id": "5xmG6zfc22eW"
      },
      "id": "5xmG6zfc22eW",
      "execution_count": null,
      "outputs": []
    },
    {
      "cell_type": "code",
      "source": [
        "from ase.build import nanotube\n",
        "from ase.visualize import view\n",
        "from ase.io import write\n",
        "\n",
        "cnt1 = nanotube(6, 0, length=4)\n",
        "cnt2 = nanotube(3, 3, length=6, bond=1.4, symbol='Si')\n",
        "\n",
        "view(cnt1, viewer='x3d')"
      ],
      "metadata": {
        "id": "PRRwRDCE20cI"
      },
      "id": "PRRwRDCE20cI",
      "execution_count": null,
      "outputs": []
    },
    {
      "cell_type": "code",
      "source": [
        "view(cnt2, viewer='x3d')"
      ],
      "metadata": {
        "id": "qcbWNeIw3A8_"
      },
      "id": "qcbWNeIw3A8_",
      "execution_count": null,
      "outputs": []
    },
    {
      "cell_type": "code",
      "source": [
        "from ase.build import fcc111\n",
        "from ase.visualize import view\n",
        "from ase.io import write\n",
        "\n",
        "#https://wiki.fysik.dtu.dk/ase/ase/build/surface.html?highlight=fcc111#ase.build.fcc111\n",
        "\n",
        "slab = fcc111('Al', size=(3,3,2))\n",
        "view(slab,viewer='x3d')"
      ],
      "metadata": {
        "id": "Q0QyoRLc3Nrc"
      },
      "id": "Q0QyoRLc3Nrc",
      "execution_count": null,
      "outputs": []
    },
    {
      "cell_type": "code",
      "source": [
        "# ontop,fcc,bridge,hcp\n",
        "\n",
        "# https://wiki.fysik.dtu.dk/ase/ase/build/surface.html?highlight=fcc111#ase.build.fcc111\n",
        "\n",
        "from ase.build import fcc111,add_adsorbate\n",
        "from ase.visualize import view\n",
        "from ase.io import write\n",
        "\n",
        "slab = fcc111('Al', size=(3,3,2))\n",
        "add_adsorbate(slab,'H',1.5,'hcp')\n",
        "\n",
        "view(slab,viewer='x3d')"
      ],
      "metadata": {
        "id": "FtZxSQyG3SgW"
      },
      "id": "FtZxSQyG3SgW",
      "execution_count": null,
      "outputs": []
    },
    {
      "cell_type": "code",
      "source": [
        "# @title Optimización { display-mode: \"form\" }"
      ],
      "metadata": {
        "id": "WMg8UP2O33aE"
      },
      "id": "WMg8UP2O33aE",
      "execution_count": null,
      "outputs": []
    },
    {
      "cell_type": "code",
      "source": [
        "#with the Powershell prompt\n",
        "#cd Desktop\n",
        "# ase gui H2O.traj\n",
        "# show forces, bonds\n",
        "from ase import Atoms\n",
        "from ase.units import kJ,mol\n",
        "from ase.build import molecule\n",
        "from ase.optimize import BFGS, FIRE\n",
        "from ase.calculators.emt import EMT\n",
        "from ase.io import read\n",
        "from ase.visualize import view\n",
        "import numpy as np\n",
        "import warnings\n",
        "warnings.filterwarnings(\"ignore\")\n",
        "\n",
        "n2 = molecule('N2')\n",
        "\n",
        "mu = n2.get_masses()[0] / 2 / mol * 0.001\n",
        "\n",
        "natoms = len(n2)\n",
        "\n",
        "n2.set_calculator(EMT())\n",
        "dyn = BFGS(n2, trajectory='N2.traj')\n",
        "dyn.run(fmax=0.001)\n",
        "\n",
        "delta=0.001\n",
        "\n",
        "n2.positions[0][2] = n2.get_positions()[0][2] + delta\n",
        "g1 = abs(n2.get_forces()[0][2])\n",
        "\n",
        "frec = 1 / (2 * np.pi) * np.sqrt(g1/delta / kJ * 1000 / mu) / 2.9979\n",
        "\n",
        "print('Vibrational frequency (cm-1):',frec)\n",
        "\n",
        "configs = read('N2.traj@0:')\n",
        "view(configs, viewer='ngl')"
      ],
      "metadata": {
        "id": "usRMy_fO33vB"
      },
      "id": "usRMy_fO33vB",
      "execution_count": null,
      "outputs": []
    },
    {
      "cell_type": "code",
      "source": [
        "from ase import *\n",
        "from ase.units import kB\n",
        "from ase.optimize import LBFGS\n",
        "from ase.calculators.emt import EMT\n",
        "from ase.optimize.basin import BasinHopping\n",
        "import numpy as np\n",
        "\n",
        "d = 0.9575\n",
        "t = np.pi / 180 * 104.51\n",
        "water = Atoms('H2O',\n",
        "              positions=[(d, 0, 0),\n",
        "                         (d * np.cos(t), d * np.sin(t), 0),\n",
        "                         (0, 0, 0)],\n",
        "              calculator=EMT())\n",
        "\n",
        "bh = BasinHopping(atoms=water,         # the system to optimize\n",
        "                  temperature=100 * kB, # 'temperature' to overcome barriers\n",
        "                  dr=0.5,               # maximal stepwidth\n",
        "                  optimizer=LBFGS,      # optimizer to find local minima\n",
        "                  fmax=0.1,             # maximal force for the optimizer\n",
        "                  )"
      ],
      "metadata": {
        "id": "jy7YUEEf4DZ5"
      },
      "id": "jy7YUEEf4DZ5",
      "execution_count": null,
      "outputs": []
    },
    {
      "cell_type": "code",
      "source": [
        "#with the Powershell prompt\n",
        "#cd Desktop\n",
        "# ase gui H2O.traj\n",
        "# show forces, bonds\n",
        "from ase import Atoms\n",
        "from ase.optimize import BFGS, FIRE\n",
        "from ase.calculators.emt import EMT\n",
        "from ase.io import read\n",
        "from ase.visualize import view\n",
        "import numpy as np\n",
        "import warnings\n",
        "warnings.filterwarnings(\"ignore\")\n",
        "d = 0.9575\n",
        "t = np.pi / 180 * 104.51\n",
        "water = Atoms('H2O',\n",
        "              positions=[(d, 0, 0),\n",
        "                         (d * np.cos(t), d * np.sin(t), 0),\n",
        "                         (0, 0, 0)],\n",
        "              calculator=EMT())\n",
        "dyn = BFGS(water, trajectory='H2O.traj')\n",
        "#dyn = FIRE(water, trajectory='H2O.traj')\n",
        "\n",
        "dyn.run(fmax=0.05)\n",
        "configs = read('H2O.traj@0:')\n",
        "view(configs, viewer='ngl')"
      ],
      "metadata": {
        "id": "GHihsO_w4ImO"
      },
      "id": "GHihsO_w4ImO",
      "execution_count": null,
      "outputs": []
    },
    {
      "cell_type": "code",
      "source": [
        "# Test using mopac\n",
        "\n",
        "from ase import Atoms\n",
        "from ase.build import molecule\n",
        "from ase.optimize import BFGS, FIRE\n",
        "from ase.calculators.mopac import MOPAC\n",
        "from ase.io import read\n",
        "from ase.visualize import view\n",
        "import numpy as np\n",
        "import warnings\n",
        "warnings.filterwarnings(\"ignore\")\n",
        "\n",
        "#Method 1: read xyz file\n",
        "FA = read('FA.xyz')\n",
        "FA.calc = EMT()\n",
        "\n",
        "#Method 2: construct molecule with Atoms\n",
        "d = 0.9575\n",
        "t = np.pi / 180 * 104.51\n",
        "water = Atoms('H2O',\n",
        "              positions=[(d, 0, 0),\n",
        "                         (d * np.cos(t), d * np.sin(t), 0),\n",
        "                         (0, 0, 0)],\n",
        "              calculator=EMT())\n",
        "\n",
        "\n",
        "#Method 3: get the molecule from database\n",
        "AcH = molecule('CH3COOH',calculator=EMT())\n",
        "\n",
        "#Change the name of the sysmte below\n",
        "dyn = BFGS(FA, trajectory='H2O.traj')\n",
        "\n",
        "dyn.run(fmax=0.05)\n",
        "configs = read('H2O.traj@0:')\n",
        "view(configs, viewer='ngl')"
      ],
      "metadata": {
        "id": "evkDsO8k4QnY"
      },
      "id": "evkDsO8k4QnY",
      "execution_count": null,
      "outputs": []
    }
  ]
}