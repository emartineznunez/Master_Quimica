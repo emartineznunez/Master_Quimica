{
  "metadata": {
    "language_info": {
      "name": "python",
      "version": "3.10.12",
      "mimetype": "text/x-python",
      "codemirror_mode": {
        "name": "ipython",
        "version": 3
      },
      "pygments_lexer": "ipython3",
      "nbconvert_exporter": "python",
      "file_extension": ".py"
    },
    "kernelspec": {
      "name": "python3",
      "display_name": "Python 3 (ipykernel)",
      "language": "python"
    },
    "colab": {
      "provenance": []
    }
  },
  "nbformat_minor": 5,
  "nbformat": 4,
  "cells": [
    {
      "cell_type": "markdown",
      "source": [
        "# **Instalamos las librerias necesarias**"
      ],
      "metadata": {
        "id": "hBGXlfBBCyjj"
      },
      "id": "hBGXlfBBCyjj"
    },
    {
      "cell_type": "code",
      "source": [
        "! pip install ase nglview\n",
        "! curl -LJO https://raw.githubusercontent.com/emartineznunez/Master_Quimica/master/Google_colab/FA.xyz"
      ],
      "metadata": {
        "id": "cBt04xfICzoD"
      },
      "id": "cBt04xfICzoD",
      "execution_count": null,
      "outputs": []
    },
    {
      "cell_type": "code",
      "source": [
        "from google.colab import output\n",
        "output.enable_custom_widget_manager()"
      ],
      "metadata": {
        "id": "UrmneR7C5fY4"
      },
      "id": "UrmneR7C5fY4",
      "execution_count": null,
      "outputs": []
    },
    {
      "cell_type": "markdown",
      "source": [
        "# **Visualización de moléculas**"
      ],
      "metadata": {
        "id": "zpNrSfXhDORr"
      },
      "id": "zpNrSfXhDORr"
    },
    {
      "cell_type": "code",
      "source": [
        "#The database is here: https://wiki.fysik.dtu.dk/ase/ase/build/build.html\n",
        "from ase.build import molecule\n",
        "from ase.visualize import view\n",
        "\n",
        "water = molecule('H2O')\n",
        "FA = molecule('HCOOH')\n",
        "C60 = molecule('C60')\n",
        "cyclobutene = molecule('cyclobutene')\n",
        "view(water, viewer='x3d')"
      ],
      "metadata": {
        "collapsed": true,
        "id": "6g00VMvL1Hrj"
      },
      "id": "6g00VMvL1Hrj",
      "execution_count": null,
      "outputs": []
    },
    {
      "cell_type": "code",
      "source": [
        "view(FA, viewer='x3d')"
      ],
      "metadata": {
        "id": "jFdkkt911Oac"
      },
      "id": "jFdkkt911Oac",
      "execution_count": null,
      "outputs": []
    },
    {
      "cell_type": "code",
      "source": [
        "view(C60, viewer='x3d')"
      ],
      "metadata": {
        "id": "HoDPAcAU1Ryi"
      },
      "id": "HoDPAcAU1Ryi",
      "execution_count": null,
      "outputs": []
    },
    {
      "cell_type": "code",
      "source": [
        "view(cyclobutene, viewer='x3d')"
      ],
      "metadata": {
        "id": "K2UH5GBL1T1q"
      },
      "id": "K2UH5GBL1T1q",
      "execution_count": null,
      "outputs": []
    },
    {
      "cell_type": "code",
      "source": [
        "from ase.build import graphene_nanoribbon\n",
        "from ase.visualize import view\n",
        "\n",
        "gnr1 = graphene_nanoribbon(3, 4, type='armchair', saturated=True,\n",
        "                               vacuum=3.5)\n",
        "gnr2 = graphene_nanoribbon(2, 6, type='zigzag', saturated=True,\n",
        "                           C_H=1.1, C_C=1.4, vacuum=3.0,\n",
        "                           magnetic=True, initial_mag=1.12)\n",
        "view(gnr1, viewer='ngl')"
      ],
      "metadata": {
        "id": "DPKtCvKL2oI8"
      },
      "id": "DPKtCvKL2oI8",
      "execution_count": null,
      "outputs": []
    },
    {
      "cell_type": "code",
      "source": [
        "view(gnr2, viewer='ngl')"
      ],
      "metadata": {
        "id": "5xmG6zfc22eW"
      },
      "id": "5xmG6zfc22eW",
      "execution_count": null,
      "outputs": []
    },
    {
      "cell_type": "code",
      "source": [
        "from ase.build import nanotube\n",
        "from ase.visualize import view\n",
        "from ase.io import write\n",
        "\n",
        "cnt1 = nanotube(6, 0, length=4)\n",
        "cnt2 = nanotube(3, 3, length=6, bond=1.4, symbol='Si')\n",
        "\n",
        "view(cnt1, viewer='x3d')"
      ],
      "metadata": {
        "id": "PRRwRDCE20cI"
      },
      "id": "PRRwRDCE20cI",
      "execution_count": null,
      "outputs": []
    },
    {
      "cell_type": "code",
      "source": [
        "view(cnt2, viewer='x3d')"
      ],
      "metadata": {
        "id": "qcbWNeIw3A8_"
      },
      "id": "qcbWNeIw3A8_",
      "execution_count": null,
      "outputs": []
    },
    {
      "cell_type": "code",
      "source": [
        "from ase.build import fcc111\n",
        "from ase.visualize import view\n",
        "from ase.io import write\n",
        "\n",
        "#https://wiki.fysik.dtu.dk/ase/ase/build/surface.html?highlight=fcc111#ase.build.fcc111\n",
        "\n",
        "slab = fcc111('Al', size=(3,3,2))\n",
        "view(slab,viewer='x3d')"
      ],
      "metadata": {
        "id": "Q0QyoRLc3Nrc"
      },
      "id": "Q0QyoRLc3Nrc",
      "execution_count": null,
      "outputs": []
    },
    {
      "cell_type": "code",
      "source": [
        "# ontop,fcc,bridge,hcp\n",
        "\n",
        "# https://wiki.fysik.dtu.dk/ase/ase/build/surface.html?highlight=fcc111#ase.build.fcc111\n",
        "\n",
        "from ase.build import fcc111,add_adsorbate\n",
        "from ase.visualize import view\n",
        "from ase.io import write\n",
        "\n",
        "slab = fcc111('Al', size=(3,3,2))\n",
        "add_adsorbate(slab,'H',1.5,'hcp')\n",
        "\n",
        "view(slab,viewer='x3d')"
      ],
      "metadata": {
        "id": "FtZxSQyG3SgW"
      },
      "id": "FtZxSQyG3SgW",
      "execution_count": null,
      "outputs": []
    },
    {
      "cell_type": "markdown",
      "source": [
        "# **Optimización**"
      ],
      "metadata": {
        "id": "hF4J5PawDoU7"
      },
      "id": "hF4J5PawDoU7"
    },
    {
      "cell_type": "code",
      "source": [
        "#with the Powershell prompt\n",
        "#cd Desktop\n",
        "# ase gui H2O.traj\n",
        "# show forces, bonds\n",
        "from ase import Atoms\n",
        "from ase.units import kJ,mol\n",
        "from ase.build import molecule\n",
        "from ase.optimize import BFGS, FIRE\n",
        "from ase.calculators.emt import EMT\n",
        "from ase.io import read\n",
        "from ase.visualize import view\n",
        "import numpy as np\n",
        "import warnings\n",
        "warnings.filterwarnings(\"ignore\")\n",
        "\n",
        "n2 = molecule('N2')\n",
        "\n",
        "mu = n2.get_masses()[0] / 2 / mol * 0.001\n",
        "\n",
        "natoms = len(n2)\n",
        "\n",
        "n2.set_calculator(EMT())\n",
        "dyn = BFGS(n2, trajectory='N2.traj')\n",
        "dyn.run(fmax=0.001)\n",
        "\n",
        "delta=0.001\n",
        "\n",
        "n2.positions[0][2] = n2.get_positions()[0][2] + delta\n",
        "g1 = abs(n2.get_forces()[0][2])\n",
        "\n",
        "frec = 1 / (2 * np.pi) * np.sqrt(g1/delta / kJ * 1000 / mu) / 2.9979\n",
        "\n",
        "print('Vibrational frequency (cm-1):',frec)\n",
        "\n",
        "configs = read('N2.traj@0:')\n",
        "view(configs, viewer='ngl')"
      ],
      "metadata": {
        "id": "usRMy_fO33vB"
      },
      "id": "usRMy_fO33vB",
      "execution_count": null,
      "outputs": []
    },
    {
      "cell_type": "code",
      "source": [
        "from ase import *\n",
        "from ase.units import kB\n",
        "from ase.optimize import LBFGS\n",
        "from ase.calculators.emt import EMT\n",
        "from ase.optimize.basin import BasinHopping\n",
        "import numpy as np\n",
        "\n",
        "d = 0.9575\n",
        "t = np.pi / 180 * 104.51\n",
        "water = Atoms('H2O',\n",
        "              positions=[(d, 0, 0),\n",
        "                         (d * np.cos(t), d * np.sin(t), 0),\n",
        "                         (0, 0, 0)],\n",
        "              calculator=EMT())\n",
        "\n",
        "bh = BasinHopping(atoms=water,         # the system to optimize\n",
        "                  temperature=100 * kB, # 'temperature' to overcome barriers\n",
        "                  dr=0.5,               # maximal stepwidth\n",
        "                  optimizer=LBFGS,      # optimizer to find local minima\n",
        "                  fmax=0.1,             # maximal force for the optimizer\n",
        "                  )"
      ],
      "metadata": {
        "id": "jy7YUEEf4DZ5"
      },
      "id": "jy7YUEEf4DZ5",
      "execution_count": null,
      "outputs": []
    },
    {
      "cell_type": "code",
      "source": [
        "#with the Powershell prompt\n",
        "#cd Desktop\n",
        "# ase gui H2O.traj\n",
        "# show forces, bonds\n",
        "from ase import Atoms\n",
        "from ase.optimize import BFGS, FIRE\n",
        "from ase.calculators.emt import EMT\n",
        "from ase.io import read\n",
        "from ase.visualize import view\n",
        "import numpy as np\n",
        "import warnings\n",
        "warnings.filterwarnings(\"ignore\")\n",
        "d = 0.9575\n",
        "t = np.pi / 180 * 104.51\n",
        "water = Atoms('H2O',\n",
        "              positions=[(d, 0, 0),\n",
        "                         (d * np.cos(t), d * np.sin(t), 0),\n",
        "                         (0, 0, 0)],\n",
        "              calculator=EMT())\n",
        "dyn = BFGS(water, trajectory='H2O.traj')\n",
        "#dyn = FIRE(water, trajectory='H2O.traj')\n",
        "\n",
        "dyn.run(fmax=0.05)\n",
        "configs = read('H2O.traj@0:')\n",
        "view(configs, viewer='ngl')"
      ],
      "metadata": {
        "id": "GHihsO_w4ImO"
      },
      "id": "GHihsO_w4ImO",
      "execution_count": null,
      "outputs": []
    },
    {
      "cell_type": "code",
      "source": [
        "# Test using mopac\n",
        "\n",
        "from ase import Atoms\n",
        "from ase.build import molecule\n",
        "from ase.optimize import BFGS, FIRE\n",
        "from ase.calculators.emt import EMT\n",
        "from ase.io import read\n",
        "from ase.visualize import view\n",
        "import numpy as np\n",
        "import warnings\n",
        "warnings.filterwarnings(\"ignore\")\n",
        "\n",
        "#Method 1: read xyz file\n",
        "FA = read('FA.xyz')\n",
        "FA.calc = EMT()\n",
        "\n",
        "#Method 2: construct molecule with Atoms\n",
        "d = 0.9575\n",
        "t = np.pi / 180 * 104.51\n",
        "water = Atoms('H2O',\n",
        "              positions=[(d, 0, 0),\n",
        "                         (d * np.cos(t), d * np.sin(t), 0),\n",
        "                         (0, 0, 0)],\n",
        "              calculator=EMT())\n",
        "\n",
        "\n",
        "#Method 3: get the molecule from database\n",
        "AcH = molecule('CH3COOH',calculator=EMT())\n",
        "\n",
        "#Change the name of the sysmte below\n",
        "dyn = BFGS(FA, trajectory='H2O.traj')\n",
        "\n",
        "dyn.run(fmax=0.05)\n",
        "configs = read('H2O.traj@0:')\n",
        "view(configs, viewer='ngl')"
      ],
      "metadata": {
        "id": "evkDsO8k4QnY"
      },
      "id": "evkDsO8k4QnY",
      "execution_count": null,
      "outputs": []
    },
    {
      "cell_type": "markdown",
      "source": [
        "# **Termoquímica**\n",
        "https://wiki.fysik.dtu.dk/ase/ase/thermochemistry/thermochemistry.html"
      ],
      "metadata": {
        "id": "B725qKeNDvDX"
      },
      "id": "B725qKeNDvDX"
    },
    {
      "cell_type": "code",
      "source": [
        "from ase.build import molecule\n",
        "from ase.calculators.emt import EMT\n",
        "from ase.optimize import QuasiNewton\n",
        "from ase.vibrations import Vibrations\n",
        "from ase.thermochemistry import IdealGasThermo\n",
        "\n",
        "atoms = molecule('NH3')\n",
        "atoms.set_calculator(EMT())\n",
        "dyn = QuasiNewton(atoms)\n",
        "dyn.run(fmax=0.01)\n",
        "potentialenergy = atoms.get_potential_energy()\n",
        "\n",
        "vib = Vibrations(atoms)\n",
        "vib.run()\n",
        "vib_energies = vib.get_energies()\n",
        "vib.clean()\n",
        "\n",
        "thermo = IdealGasThermo(vib_energies=vib_energies,\n",
        "                        potentialenergy=potentialenergy,\n",
        "                        atoms=atoms,\n",
        "                        geometry='nonlinear',\n",
        "                        symmetrynumber=3, spin=0)\n",
        "G = thermo.get_gibbs_energy(temperature=298.15, pressure=101325.)"
      ],
      "metadata": {
        "id": "wxdFWshO9frJ"
      },
      "id": "wxdFWshO9frJ",
      "execution_count": null,
      "outputs": []
    },
    {
      "cell_type": "markdown",
      "source": [
        "# **Energías de disociación**"
      ],
      "metadata": {
        "id": "ESgWnWGQDzId"
      },
      "id": "ESgWnWGQDzId"
    },
    {
      "cell_type": "code",
      "source": [
        "from ase import Atoms\n",
        "from ase.calculators.emt import EMT\n",
        "\n",
        "atom = Atoms('N', calculator=EMT())\n",
        "e_atom = atom.get_potential_energy()\n",
        "\n",
        "d = 1.1\n",
        "molecule = Atoms('2N', [(0., 0., 0.), (0., 0., d)])\n",
        "molecule.set_calculator(EMT())\n",
        "e_molecule = molecule.get_potential_energy()\n",
        "\n",
        "e_atomization = e_molecule - 2 * e_atom\n",
        "\n",
        "print('Nitrogen atom energy: %5.2f eV' % e_atom)\n",
        "print('Nitrogen molecule energy: %5.2f eV' % e_molecule)\n",
        "print('Dissociation energy: %5.2f eV' % -e_atomization)"
      ],
      "metadata": {
        "id": "_I0Wsdi59pU9"
      },
      "id": "_I0Wsdi59pU9",
      "execution_count": null,
      "outputs": []
    },
    {
      "cell_type": "code",
      "source": [
        "%matplotlib inline\n",
        "from ase import Atoms\n",
        "from ase.calculators.emt import EMT\n",
        "from matplotlib import pyplot\n",
        "import numpy as np\n",
        "\n",
        "atom = Atoms('N', calculator=EMT())\n",
        "e_atom = atom.get_potential_energy()\n",
        "\n",
        "e = []\n",
        "r = []\n",
        "for d in np.linspace(0.45,10,100):\n",
        "    molecule = Atoms('2N', [(0., 0., 0.), (0., 0., d)])\n",
        "    molecule.set_calculator(EMT())\n",
        "    ei = molecule.get_potential_energy() - 2 *e_atom\n",
        "    e.append(ei)\n",
        "    r.append(d)\n",
        "\n",
        "pyplot.plot(r ,e ,'-')\n",
        "pyplot.xlabel(\"N-N distance (Angstroms)\")\n",
        "pyplot.ylabel(\"Energy (eV)\")\n",
        "pyplot.title(\"Potential energy curve (N2)\")"
      ],
      "metadata": {
        "id": "3aMRqXHJ92zO"
      },
      "id": "3aMRqXHJ92zO",
      "execution_count": null,
      "outputs": []
    },
    {
      "cell_type": "markdown",
      "source": [
        "# **Dinámica molecular**"
      ],
      "metadata": {
        "id": "C0yeoyYPD3-L"
      },
      "id": "C0yeoyYPD3-L"
    },
    {
      "cell_type": "code",
      "source": [
        "from ase.lattice.cubic import FaceCenteredCubic\n",
        "from ase.md.velocitydistribution import MaxwellBoltzmannDistribution\n",
        "from ase.md.verlet import VelocityVerlet\n",
        "from ase import units\n",
        "from ase.calculators.emt import EMT\n",
        "from ase.constraints import FixCom\n",
        "from ase.build import molecule\n",
        "from ase.io import read\n",
        "from ase.visualize import view\n",
        "import warnings\n",
        "warnings.filterwarnings(\"ignore\")\n",
        "from google.colab import output\n",
        "output.enable_custom_widget_manager()\n",
        "\n",
        "#size*size*size is the number of times the unit cell is repeated\n",
        "size=2\n",
        "# Set up the surface\n",
        "atoms = FaceCenteredCubic(directions=[[1, 0, 0], [0, 1, 0], [0, 0, 1]],\n",
        "                          symbol='Cu',\n",
        "                          size=(size, size, size),\n",
        "                          pbc=True)\n",
        "\n",
        "# Describe the interatomic interactions with the Effective Medium Theory\n",
        "atoms.set_calculator(EMT())\n",
        "\n",
        "\n",
        "# Set the momenta corresponding to T=300K\n",
        "MaxwellBoltzmannDistribution(atoms, 300 * units.kB)\n",
        "\n",
        "c=FixCom()\n",
        "atoms.set_constraint(c)\n",
        "# We want to run MD with constant energy using the VelocityVerlet algorithm.\n",
        "dyn = VelocityVerlet(atoms, 5 * units.fs, trajectory='md.traj')  # 5 fs time step.\n",
        "\n",
        "# Now run the dynamics\n",
        "dyn.run(100)\n",
        "configs = read('md.traj@0:')\n",
        "view(configs, viewer='ngl')"
      ],
      "metadata": {
        "id": "D11qKLhv9-YK"
      },
      "id": "D11qKLhv9-YK",
      "execution_count": null,
      "outputs": []
    },
    {
      "cell_type": "code",
      "source": [
        "from ase.lattice.cubic import FaceCenteredCubic\n",
        "from ase.md.velocitydistribution import MaxwellBoltzmannDistribution\n",
        "from ase.md.verlet import VelocityVerlet\n",
        "from ase import units\n",
        "from ase.calculators.emt import EMT\n",
        "from ase.constraints import FixCom\n",
        "from ase.build import molecule\n",
        "from ase.visualize import view\n",
        "from ase.io import read\n",
        "import warnings\n",
        "warnings.filterwarnings(\"ignore\")\n",
        "from google.colab import output\n",
        "output.enable_custom_widget_manager()\n",
        "\n",
        "#size*size*size is the number of times the unit cell is repeated\n",
        "n2=molecule('N2')\n",
        "n2.set_calculator(EMT())\n",
        "\n",
        "\n",
        "# Set the momenta corresponding to T=300K\n",
        "MaxwellBoltzmannDistribution(n2, 300 * units.kB)\n",
        "\n",
        "c=FixCom()\n",
        "n2.set_constraint(c)\n",
        "# We want to run MD with constant energy using the VelocityVerlet algorithm.\n",
        "dyn = VelocityVerlet(n2, 5 * units.fs, trajectory='md.traj')  # 5 fs time step.\n",
        "\n",
        "# Now run the dynamics\n",
        "dyn.run(500)\n",
        "configs = read('md.traj@0:')\n",
        "view(configs, viewer='ngl')"
      ],
      "metadata": {
        "id": "1G_6Gu8o-uYS"
      },
      "id": "1G_6Gu8o-uYS",
      "execution_count": null,
      "outputs": []
    },
    {
      "cell_type": "markdown",
      "source": [
        "# **Ecuación de estado (sólidos)**\n",
        "https://en.wikipedia.org/wiki/Murnaghan_equation_of_state\n",
        "\n",
        "https://wiki.fysik.dtu.dk/ase/tutorials/eos/eos.html"
      ],
      "metadata": {
        "id": "nh-ux2o4D9S-"
      },
      "id": "nh-ux2o4D9S-"
    },
    {
      "cell_type": "code",
      "source": [
        "%matplotlib inline\n",
        "import numpy as np\n",
        "\n",
        "from ase import Atoms\n",
        "from ase.io.trajectory import Trajectory\n",
        "from ase.calculators.emt import EMT\n",
        "from ase.io import read\n",
        "from ase.units import kJ\n",
        "from ase.eos import EquationOfState\n",
        "from ase.visualize import view\n",
        "import warnings\n",
        "warnings.filterwarnings(\"ignore\")\n",
        "\n",
        "a = 4.0  # approximate lattice constant\n",
        "b = a / 2\n",
        "ag = Atoms('Ag',\n",
        "           cell=[(0, b, b), (b, 0, b), (b, b, 0)],\n",
        "           pbc=1,\n",
        "           calculator=EMT())  # use EMT potential\n",
        "cell = ag.get_cell()\n",
        "traj = Trajectory('Ag.traj', 'w')\n",
        "for x in np.linspace(0.95, 1.05, 5):\n",
        "    ag.set_cell(cell * x, scale_atoms=True)\n",
        "    ag.get_potential_energy()\n",
        "    traj.write(ag)\n",
        "\n",
        "configs = read('Ag.traj@0:5')  # read 5 configurations\n",
        "# Extract volumes and energies:\n",
        "volumes = [ag.get_volume() for ag in configs]\n",
        "energies = [ag.get_potential_energy() for ag in configs]\n",
        "eos = EquationOfState(volumes, energies)\n",
        "v0, e0, B = eos.fit()\n",
        "#print(B / kJ * 1.0e24, 'GPa')\n",
        "eos.plot('Ag-eos.png')"
      ],
      "metadata": {
        "id": "x0VGiSwm_hcw"
      },
      "id": "x0VGiSwm_hcw",
      "execution_count": null,
      "outputs": []
    }
  ]
}