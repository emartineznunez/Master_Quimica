{
 "cells": [
  {
   "cell_type": "markdown",
   "metadata": {},
   "source": [
    "**Tambien podemos visualizar superficies con moleculas adsorbidas**"
   ]
  },
  {
   "cell_type": "code",
   "execution_count": null,
   "metadata": {
    "tags": []
   },
   "outputs": [],
   "source": [
    "# ontop,fcc,bridge,hcp\n",
    "\n",
    "# https://wiki.fysik.dtu.dk/ase/ase/build/surface.html?highlight=fcc111#ase.build.fcc111\n",
    "\n",
    "from ase.build import fcc111,add_adsorbate\n",
    "from ase.visualize import view\n",
    "from ase.io import write\n",
    "\n",
    "slab = fcc111('Al', size=(3,3,2))\n",
    "add_adsorbate(slab,'H',1.5,'hcp')\n",
    "\n",
    "view(slab,viewer='x3d')"
   ]
  },
  {
   "cell_type": "code",
   "execution_count": null,
   "metadata": {},
   "outputs": [],
   "source": []
  }
 ],
 "metadata": {
  "kernelspec": {
   "display_name": "Python 3 (ipykernel)",
   "language": "python",
   "name": "python3"
  },
  "language_info": {
   "codemirror_mode": {
    "name": "ipython",
    "version": 3
   },
   "file_extension": ".py",
   "mimetype": "text/x-python",
   "name": "python",
   "nbconvert_exporter": "python",
   "pygments_lexer": "ipython3",
   "version": "3.10.12"
  }
 },
 "nbformat": 4,
 "nbformat_minor": 4
}
