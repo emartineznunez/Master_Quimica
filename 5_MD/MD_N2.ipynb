{
 "cells": [
  {
   "cell_type": "markdown",
   "metadata": {},
   "source": [
    "**Simulación de MD para el N$_{2}$**"
   ]
  },
  {
   "cell_type": "code",
   "execution_count": null,
   "metadata": {},
   "outputs": [],
   "source": [
    "from ase.lattice.cubic import FaceCenteredCubic\n",
    "from ase.md.velocitydistribution import MaxwellBoltzmannDistribution\n",
    "from ase.md.verlet import VelocityVerlet\n",
    "from ase import units\n",
    "from ase.calculators.emt import EMT\n",
    "from ase.constraints import FixCom\n",
    "from ase.build import molecule\n",
    "from ase.visualize import view\n",
    "from ase.io import read\n",
    "import warnings\n",
    "warnings.filterwarnings(\"ignore\")\n",
    "\n",
    "#size*size*size is the number of times the unit cell is repeated\n",
    "n2=molecule('N2')\n",
    "n2.set_calculator(EMT())\n",
    "\n",
    "\n",
    "# Set the momenta corresponding to T=300K\n",
    "MaxwellBoltzmannDistribution(n2, 300 * units.kB)\n",
    "\n",
    "c=FixCom()\n",
    "n2.set_constraint(c)\n",
    "# We want to run MD with constant energy using the VelocityVerlet algorithm.\n",
    "dyn = VelocityVerlet(n2, 5 * units.fs, trajectory='md.traj')  # 5 fs time step.\n",
    "\n",
    "# Now run the dynamics\n",
    "dyn.run(500)\n",
    "configs = read('md.traj@0:')\n",
    "view(configs, viewer='ngl')"
   ]
  },
  {
   "cell_type": "code",
   "execution_count": null,
   "metadata": {},
   "outputs": [],
   "source": []
  }
 ],
 "metadata": {
  "kernelspec": {
   "display_name": "Python 3",
   "language": "python",
   "name": "python3"
  },
  "language_info": {
   "codemirror_mode": {
    "name": "ipython",
    "version": 3
   },
   "file_extension": ".py",
   "mimetype": "text/x-python",
   "name": "python",
   "nbconvert_exporter": "python",
   "pygments_lexer": "ipython3",
   "version": "3.7.8"
  }
 },
 "nbformat": 4,
 "nbformat_minor": 4
}
