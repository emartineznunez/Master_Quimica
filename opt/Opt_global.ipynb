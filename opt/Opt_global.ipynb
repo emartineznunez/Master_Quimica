{
 "cells": [
  {
   "cell_type": "markdown",
   "metadata": {},
   "source": [
    "**Optimización usando un algoritmo global**"
   ]
  },
  {
   "cell_type": "code",
   "execution_count": null,
   "metadata": {},
   "outputs": [],
   "source": [
    "from ase import *\n",
    "from ase.units import kB\n",
    "from ase.optimize import LBFGS\n",
    "from ase.calculators.emt import EMT\n",
    "from ase.optimize.basin import BasinHopping\n",
    "import numpy as np\n",
    "\n",
    "d = 0.9575\n",
    "t = np.pi / 180 * 104.51\n",
    "water = Atoms('H2O',\n",
    "              positions=[(d, 0, 0),\n",
    "                         (d * np.cos(t), d * np.sin(t), 0),\n",
    "                         (0, 0, 0)],\n",
    "              calculator=EMT())\n",
    "\n",
    "bh = BasinHopping(atoms=water,         # the system to optimize\n",
    "                  temperature=100 * kB, # 'temperature' to overcome barriers\n",
    "                  dr=0.5,               # maximal stepwidth\n",
    "                  optimizer=LBFGS,      # optimizer to find local minima\n",
    "                  fmax=0.1,             # maximal force for the optimizer\n",
    "                  )"
   ]
  },
  {
   "cell_type": "code",
   "execution_count": null,
   "metadata": {},
   "outputs": [],
   "source": []
  }
 ],
 "metadata": {
  "kernelspec": {
   "display_name": "Python 3",
   "language": "python",
   "name": "python3"
  },
  "language_info": {
   "codemirror_mode": {
    "name": "ipython",
    "version": 3
   },
   "file_extension": ".py",
   "mimetype": "text/x-python",
   "name": "python",
   "nbconvert_exporter": "python",
   "pygments_lexer": "ipython3",
   "version": "3.7.8"
  }
 },
 "nbformat": 4,
 "nbformat_minor": 4
}
