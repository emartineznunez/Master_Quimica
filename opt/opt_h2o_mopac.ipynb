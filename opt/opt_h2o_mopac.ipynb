# Test using mopac

from ase import Atoms
from ase.optimize import BFGS, FIRE
from ase.calculators.mopac import MOPAC
from ase.io import read
from ase.visualize import view
import numpy as np
import warnings
warnings.filterwarnings("ignore")

d = 0.9575
t = np.pi / 180 * 104.51
water = Atoms('H2O',
              positions=[(d, 0, 0),
                         (d * np.cos(t), d * np.sin(t), 0),
                         (0, 0, 0)],
              calculator=MOPAC())

dyn = BFGS(water, trajectory='H2O.traj')

dyn.run(fmax=0.05)
configs = read('H2O.traj@0:')
view(configs, viewer='ngl')
