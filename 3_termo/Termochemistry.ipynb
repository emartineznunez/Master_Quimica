{
 "cells": [
  {
   "cell_type": "markdown",
   "metadata": {},
   "source": [
    "**Termoquímica**\n",
    "\n",
    "Consulta:\n",
    "\n",
    "https://wiki.fysik.dtu.dk/ase/ase/thermochemistry/thermochemistry.html"
   ]
  },
  {
   "cell_type": "code",
   "execution_count": null,
   "metadata": {},
   "outputs": [],
   "source": [
    "from ase.build import molecule\n",
    "from ase.calculators.emt import EMT\n",
    "from ase.optimize import QuasiNewton\n",
    "from ase.vibrations import Vibrations\n",
    "from ase.thermochemistry import IdealGasThermo\n",
    "\n",
    "atoms = molecule('NH3')\n",
    "atoms.set_calculator(EMT())\n",
    "dyn = QuasiNewton(atoms)\n",
    "dyn.run(fmax=0.01)\n",
    "potentialenergy = atoms.get_potential_energy()\n",
    "\n",
    "vib = Vibrations(atoms)\n",
    "vib.run()\n",
    "vib_energies = vib.get_energies()\n",
    "vib.clean()\n",
    "\n",
    "thermo = IdealGasThermo(vib_energies=vib_energies,\n",
    "                        potentialenergy=potentialenergy,\n",
    "                        atoms=atoms,\n",
    "                        geometry='nonlinear',\n",
    "                        symmetrynumber=3, spin=0)\n",
    "G = thermo.get_gibbs_energy(temperature=298.15, pressure=101325.)"
   ]
  },
  {
   "cell_type": "code",
   "execution_count": null,
   "metadata": {},
   "outputs": [],
   "source": []
  }
 ],
 "metadata": {
  "kernelspec": {
   "display_name": "Python 3",
   "language": "python",
   "name": "python3"
  },
  "language_info": {
   "codemirror_mode": {
    "name": "ipython",
    "version": 3
   },
   "file_extension": ".py",
   "mimetype": "text/x-python",
   "name": "python",
   "nbconvert_exporter": "python",
   "pygments_lexer": "ipython3",
   "version": "3.7.8"
  }
 },
 "nbformat": 4,
 "nbformat_minor": 4
}
