{
 "cells": [
  {
   "cell_type": "markdown",
   "metadata": {},
   "source": [
    "**Energia de disociacion de moléculas**"
   ]
  },
  {
   "cell_type": "code",
   "execution_count": null,
   "metadata": {},
   "outputs": [],
   "source": [
    "%matplotlib inline\n",
    "from ase import Atoms\n",
    "from ase.calculators.emt import EMT\n",
    "from matplotlib import pyplot\n",
    "import numpy as np\n",
    "\n",
    "atom = Atoms('N', calculator=EMT())\n",
    "e_atom = atom.get_potential_energy()\n",
    "\n",
    "e = []\n",
    "r = []\n",
    "for d in np.linspace(0.45,10,100):\n",
    "    molecule = Atoms('2N', [(0., 0., 0.), (0., 0., d)])\n",
    "    molecule.set_calculator(EMT())\n",
    "    ei = molecule.get_potential_energy() - 2 *e_atom\n",
    "    e.append(ei)\n",
    "    r.append(d)\n",
    "\n",
    "pyplot.plot(r ,e ,'-')\n",
    "pyplot.xlabel(\"N-N distance (Angstroms)\")\n",
    "pyplot.ylabel(\"Energy (eV)\")\n",
    "pyplot.title(\"Potential energy curve (N2)\")"
   ]
  },
  {
   "cell_type": "code",
   "execution_count": null,
   "metadata": {},
   "outputs": [],
   "source": []
  }
 ],
 "metadata": {
  "kernelspec": {
   "display_name": "Python 3",
   "language": "python",
   "name": "python3"
  },
  "language_info": {
   "codemirror_mode": {
    "name": "ipython",
    "version": 3
   },
   "file_extension": ".py",
   "mimetype": "text/x-python",
   "name": "python",
   "nbconvert_exporter": "python",
   "pygments_lexer": "ipython3",
   "version": "3.7.3"
  }
 },
 "nbformat": 4,
 "nbformat_minor": 2
}
